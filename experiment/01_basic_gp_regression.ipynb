{
 "cells": [
  {
   "cell_type": "code",
   "execution_count": 65,
   "id": "d1beabb7-b9c2-4500-86d6-aa59abdb8e7c",
   "metadata": {
    "tags": []
   },
   "outputs": [
    {
     "name": "stdout",
     "output_type": "stream",
     "text": [
      "The autoreload extension is already loaded. To reload it, use:\n",
      "  %reload_ext autoreload\n"
     ]
    }
   ],
   "source": [
    "import math\n",
    "import torch\n",
    "import gpytorch as gpt\n",
    "from matplotlib import pyplot as plt\n",
    "\n",
    "%matplotlib inline\n",
    "%load_ext autoreload\n",
    "%autoreload 2"
   ]
  },
  {
   "cell_type": "code",
   "execution_count": 66,
   "id": "485fac9b-66ae-42bf-afad-248b918e8486",
   "metadata": {},
   "outputs": [],
   "source": [
    "# Training data is 100 points in [0,1] inclusive regularly spaced\n",
    "train_x = torch.linspace(0, 1, 100)\n",
    "# True function is sin(2*pi*x) with Gaussian noise\n",
    "train_y = torch.sin(train_x * (2 * math.pi)) + torch.randn(train_x.size()) * math.sqrt(0.04)"
   ]
  },
  {
   "cell_type": "code",
   "execution_count": 67,
   "id": "1c2bbb28-2e1e-4b2e-bb98-62839dfd5933",
   "metadata": {},
   "outputs": [
    {
     "data": {
      "text/plain": [
       "(torch.Size([100]), torch.Size([100]))"
      ]
     },
     "execution_count": 67,
     "metadata": {},
     "output_type": "execute_result"
    }
   ],
   "source": [
    "train_x.shape, train_y.shape"
   ]
  },
  {
   "cell_type": "markdown",
   "id": "f3332a4d-b801-417d-997e-08d1e4b38b36",
   "metadata": {},
   "source": [
    "### Setting up the model"
   ]
  },
  {
   "cell_type": "code",
   "execution_count": 68,
   "id": "e85c6aee-21e5-49f5-9db5-edf2222135d0",
   "metadata": {},
   "outputs": [],
   "source": [
    "from IPython.core.debugger import set_trace"
   ]
  },
  {
   "cell_type": "code",
   "execution_count": 84,
   "id": "36b0dacb-4885-462e-b529-29f35d04cbed",
   "metadata": {},
   "outputs": [],
   "source": [
    "# A basic GP model with exact inference\n",
    "\n",
    "class ExactGPModel(gpt.models.ExactGP):\n",
    "    def __init__(self, train_x, train_y, likelihood):\n",
    "        super(ExactGPModel, self).__init__(train_x, train_y, likelihood)\n",
    "        self.mean_module = gpt.means.ConstantMean()\n",
    "        self.covar_module = gpt.kernels.ScaleKernel(gpt.kernels.RBFKernel())\n",
    "        \n",
    "    def forward(self, x):\n",
    "        #set_trace()\n",
    "        mean_x = self.mean_module(x)\n",
    "        covar_x = self.covar_module(x)\n",
    "        return gpt.distributions.MultivariateNormal(mean_x, covar_x)\n",
    "    \n",
    "# Initialize likelihood and model\n",
    "likelihood = gpt.likelihoods.GaussianLikelihood(\n",
    "    noise_constraint=gpt.constraints.GreaterThan(1e-2),\n",
    ")\n",
    "model = ExactGPModel(train_x, train_y, likelihood)"
   ]
  },
  {
   "cell_type": "code",
   "execution_count": 85,
   "id": "202cae80-8c86-432d-8a90-656f5d239bf8",
   "metadata": {},
   "outputs": [
    {
     "data": {
      "text/plain": [
       "(ConstantMean(),\n",
       " ScaleKernel(\n",
       "   (base_kernel): RBFKernel(\n",
       "     (raw_lengthscale_constraint): Positive()\n",
       "   )\n",
       "   (raw_outputscale_constraint): Positive()\n",
       " ))"
      ]
     },
     "execution_count": 85,
     "metadata": {},
     "output_type": "execute_result"
    }
   ],
   "source": [
    "model.mean_module, model.covar_module"
   ]
  },
  {
   "cell_type": "code",
   "execution_count": 86,
   "id": "1366b0ea-d836-47d6-9b05-6ab68450793f",
   "metadata": {},
   "outputs": [
    {
     "name": "stdout",
     "output_type": "stream",
     "text": [
      "Parameter name: likelihood.noise_covar.raw_noise           value = 0.0\n",
      "Parameter name: mean_module.constant                       value = 0.0\n",
      "Parameter name: covar_module.raw_outputscale               value = 0.0\n",
      "Parameter name: covar_module.base_kernel.raw_lengthscale   value = 0.0\n"
     ]
    }
   ],
   "source": [
    "# View model hyper parameters\n",
    "for param_name, param in model.named_parameters():\n",
    "    print(f'Parameter name: {param_name:42} value = {param.item()}')"
   ]
  },
  {
   "cell_type": "markdown",
   "id": "6c8ec6da-633c-44b7-8e4f-04db90f7ca1e",
   "metadata": {},
   "source": [
    "### Training the model"
   ]
  },
  {
   "cell_type": "code",
   "execution_count": 87,
   "id": "eb09ca14-28eb-4442-a7dd-7c00877b2db7",
   "metadata": {},
   "outputs": [
    {
     "name": "stdout",
     "output_type": "stream",
     "text": [
      "Iter 1/50 - Loss: 0.957   lengthscale: 0.693   noise: 0.703\n",
      "Iter 2/50 - Loss: 0.926   lengthscale: 0.644   noise: 0.654\n",
      "Iter 3/50 - Loss: 0.893   lengthscale: 0.598   noise: 0.608\n",
      "Iter 4/50 - Loss: 0.856   lengthscale: 0.555   noise: 0.564\n",
      "Iter 5/50 - Loss: 0.813   lengthscale: 0.514   noise: 0.523\n",
      "Iter 6/50 - Loss: 0.765   lengthscale: 0.476   noise: 0.484\n",
      "Iter 7/50 - Loss: 0.712   lengthscale: 0.440   noise: 0.447\n",
      "Iter 8/50 - Loss: 0.658   lengthscale: 0.405   noise: 0.412\n",
      "Iter 9/50 - Loss: 0.606   lengthscale: 0.373   noise: 0.379\n",
      "Iter 10/50 - Loss: 0.558   lengthscale: 0.342   noise: 0.349\n",
      "Iter 11/50 - Loss: 0.515   lengthscale: 0.315   noise: 0.320\n",
      "Iter 12/50 - Loss: 0.477   lengthscale: 0.291   noise: 0.294\n",
      "Iter 13/50 - Loss: 0.441   lengthscale: 0.271   noise: 0.269\n",
      "Iter 14/50 - Loss: 0.407   lengthscale: 0.254   noise: 0.246\n",
      "Iter 15/50 - Loss: 0.374   lengthscale: 0.240   noise: 0.225\n",
      "Iter 16/50 - Loss: 0.341   lengthscale: 0.229   noise: 0.206\n",
      "Iter 17/50 - Loss: 0.309   lengthscale: 0.221   noise: 0.188\n",
      "Iter 18/50 - Loss: 0.277   lengthscale: 0.214   noise: 0.172\n",
      "Iter 19/50 - Loss: 0.246   lengthscale: 0.210   noise: 0.157\n",
      "Iter 20/50 - Loss: 0.215   lengthscale: 0.208   noise: 0.144\n",
      "Iter 21/50 - Loss: 0.184   lengthscale: 0.207   noise: 0.131\n",
      "Iter 22/50 - Loss: 0.154   lengthscale: 0.208   noise: 0.120\n",
      "Iter 23/50 - Loss: 0.125   lengthscale: 0.210   noise: 0.110\n",
      "Iter 24/50 - Loss: 0.097   lengthscale: 0.213   noise: 0.101\n",
      "Iter 25/50 - Loss: 0.070   lengthscale: 0.218   noise: 0.093\n",
      "Iter 26/50 - Loss: 0.044   lengthscale: 0.223   noise: 0.085\n",
      "Iter 27/50 - Loss: 0.020   lengthscale: 0.230   noise: 0.079\n",
      "Iter 28/50 - Loss: -0.002   lengthscale: 0.238   noise: 0.073\n",
      "Iter 29/50 - Loss: -0.022   lengthscale: 0.246   noise: 0.067\n",
      "Iter 30/50 - Loss: -0.039   lengthscale: 0.255   noise: 0.063\n",
      "Iter 31/50 - Loss: -0.055   lengthscale: 0.264   noise: 0.058\n",
      "Iter 32/50 - Loss: -0.067   lengthscale: 0.274   noise: 0.055\n",
      "Iter 33/50 - Loss: -0.078   lengthscale: 0.283   noise: 0.051\n",
      "Iter 34/50 - Loss: -0.085   lengthscale: 0.292   noise: 0.048\n",
      "Iter 35/50 - Loss: -0.091   lengthscale: 0.300   noise: 0.045\n",
      "Iter 36/50 - Loss: -0.095   lengthscale: 0.307   noise: 0.043\n",
      "Iter 37/50 - Loss: -0.097   lengthscale: 0.311   noise: 0.041\n",
      "Iter 38/50 - Loss: -0.099   lengthscale: 0.313   noise: 0.039\n",
      "Iter 39/50 - Loss: -0.100   lengthscale: 0.313   noise: 0.037\n",
      "Iter 40/50 - Loss: -0.101   lengthscale: 0.310   noise: 0.036\n",
      "Iter 41/50 - Loss: -0.102   lengthscale: 0.306   noise: 0.035\n",
      "Iter 42/50 - Loss: -0.102   lengthscale: 0.301   noise: 0.034\n",
      "Iter 43/50 - Loss: -0.102   lengthscale: 0.295   noise: 0.033\n",
      "Iter 44/50 - Loss: -0.101   lengthscale: 0.290   noise: 0.032\n",
      "Iter 45/50 - Loss: -0.100   lengthscale: 0.284   noise: 0.031\n",
      "Iter 46/50 - Loss: -0.099   lengthscale: 0.280   noise: 0.031\n",
      "Iter 47/50 - Loss: -0.097   lengthscale: 0.276   noise: 0.031\n",
      "Iter 48/50 - Loss: -0.096   lengthscale: 0.273   noise: 0.030\n",
      "Iter 49/50 - Loss: -0.095   lengthscale: 0.271   noise: 0.030\n",
      "Iter 50/50 - Loss: -0.095   lengthscale: 0.271   noise: 0.030\n"
     ]
    }
   ],
   "source": [
    "training_iter = 50\n",
    "\n",
    "# Find optimal model hyperparameters\n",
    "model.train()\n",
    "likelihood.train()\n",
    "\n",
    "optimizer = torch.optim.Adam(model.parameters(), lr=0.1)\n",
    "\n",
    "# \"Loss\" for GPs - The marginal log likelihood\n",
    "mll = gpt.mlls.ExactMarginalLogLikelihood(likelihood, model)\n",
    "\n",
    "for i in range(training_iter):\n",
    "    optimizer.zero_grad()\n",
    "    output = model(train_x)\n",
    "    \n",
    "    loss = -mll(output, train_y)\n",
    "    loss.backward()\n",
    "    print('Iter %d/%d - Loss: %.3f   lengthscale: %.3f   noise: %.3f' % (\n",
    "        i + 1, training_iter, loss.item(),\n",
    "        model.covar_module.base_kernel.lengthscale.item(),\n",
    "        model.likelihood.noise.item()\n",
    "    ))\n",
    "    optimizer.step()"
   ]
  },
  {
   "cell_type": "code",
   "execution_count": 88,
   "id": "28508ad0-711a-47ae-86c3-99f4eb7b781a",
   "metadata": {},
   "outputs": [
    {
     "name": "stdout",
     "output_type": "stream",
     "text": [
      "Parameter name: likelihood.noise_covar.raw_noise           value = -3.9191911220550537\n",
      "Parameter name: mean_module.constant                       value = -0.08950983732938766\n",
      "Parameter name: covar_module.raw_outputscale               value = 0.5638108849525452\n",
      "Parameter name: covar_module.base_kernel.raw_lengthscale   value = -1.1684852838516235\n"
     ]
    }
   ],
   "source": [
    "# View model hyper parameters after training\n",
    "for param_name, param in model.named_parameters():\n",
    "    print(f'Parameter name: {param_name:42} value = {param.item()}')"
   ]
  },
  {
   "cell_type": "code",
   "execution_count": 89,
   "id": "d69c143c-35a8-4515-979f-baeb3d94126e",
   "metadata": {},
   "outputs": [
    {
     "name": "stdout",
     "output_type": "stream",
     "text": [
      "1.0 0.5 2.0\n"
     ]
    }
   ],
   "source": [
    "# Initializing hyperparameters in One Call\n",
    "hypers = {\n",
    "    'likelihood.noise_covar.noise': torch.tensor(1.),\n",
    "    'covar_module.base_kernel.lengthscale': torch.tensor(0.5),\n",
    "    'covar_module.outputscale': torch.tensor(2.),\n",
    "}\n",
    "\n",
    "model.initialize(**hypers)\n",
    "print(\n",
    "    model.likelihood.noise_covar.noise.item(),\n",
    "    model.covar_module.base_kernel.lengthscale.item(),\n",
    "    model.covar_module.outputscale.item()\n",
    ")"
   ]
  },
  {
   "cell_type": "code",
   "execution_count": 90,
   "id": "4b8cde01-c06c-4646-82b9-199ea0ed3bd5",
   "metadata": {},
   "outputs": [
    {
     "data": {
      "text/plain": [
       "OrderedDict([('likelihood.noise_covar.raw_noise', tensor([0.5255])),\n",
       "             ('likelihood.noise_covar.raw_noise_constraint.lower_bound',\n",
       "              tensor(0.0100)),\n",
       "             ('likelihood.noise_covar.raw_noise_constraint.upper_bound',\n",
       "              tensor(inf)),\n",
       "             ('mean_module.constant', tensor([-0.0895])),\n",
       "             ('covar_module.raw_outputscale', tensor(1.8546)),\n",
       "             ('covar_module.base_kernel.raw_lengthscale', tensor([[-0.4328]])),\n",
       "             ('covar_module.base_kernel.raw_lengthscale_constraint.lower_bound',\n",
       "              tensor(0.)),\n",
       "             ('covar_module.base_kernel.raw_lengthscale_constraint.upper_bound',\n",
       "              tensor(inf)),\n",
       "             ('covar_module.raw_outputscale_constraint.lower_bound',\n",
       "              tensor(0.)),\n",
       "             ('covar_module.raw_outputscale_constraint.upper_bound',\n",
       "              tensor(inf))])"
      ]
     },
     "execution_count": 90,
     "metadata": {},
     "output_type": "execute_result"
    }
   ],
   "source": [
    "# Getting Model State\n",
    "model.state_dict()"
   ]
  },
  {
   "cell_type": "markdown",
   "id": "0894e402-287c-43c2-a0c1-69526dd8132b",
   "metadata": {},
   "source": [
    "### Make predictions with the model"
   ]
  },
  {
   "cell_type": "code",
   "execution_count": 73,
   "id": "4f501cc7-f5c3-4b3e-b4f8-a1744efcf0f2",
   "metadata": {},
   "outputs": [],
   "source": [
    "# Get into evaluation - posterior predictive - mode\n",
    "model.eval()\n",
    "likelihood.eval()\n",
    "\n",
    "with torch.no_grad(), gpytorch.settings.fast_pred_var():\n",
    "    test_x = torch.linspace(0, 1, 51)\n",
    "    observed_pred = likelihood(model(test_x))"
   ]
  },
  {
   "cell_type": "code",
   "execution_count": 74,
   "id": "d52bca78-8bb9-4855-b0e6-43bcd742ea6b",
   "metadata": {},
   "outputs": [],
   "source": [
    "with torch.no_grad():\n",
    "    f_preds = model(test_x)"
   ]
  },
  {
   "cell_type": "markdown",
   "id": "830ea1ca-1422-4d48-9279-275351535901",
   "metadata": {},
   "source": [
    "### Plot the model fit"
   ]
  },
  {
   "cell_type": "code",
   "execution_count": 75,
   "id": "a4414d20-e459-4903-81c5-9d1d4eb3ed54",
   "metadata": {},
   "outputs": [
    {
     "data": {
      "text/plain": [
       "MultivariateNormal(loc: torch.Size([51]))"
      ]
     },
     "execution_count": 75,
     "metadata": {},
     "output_type": "execute_result"
    }
   ],
   "source": [
    "observed_pred"
   ]
  },
  {
   "cell_type": "code",
   "execution_count": 76,
   "id": "f3a0cb7a-f134-4a3b-8580-0192f236530c",
   "metadata": {},
   "outputs": [
    {
     "data": {
      "image/png": "[encoded data removed]",
      "text/plain": [
       "<Figure size 288x216 with 1 Axes>"
      ]
     },
     "metadata": {
      "needs_background": "light"
     },
     "output_type": "display_data"
    }
   ],
   "source": [
    "with torch.no_grad():\n",
    "    f, ax = plt.subplots(1,1,figsize=(4,3))\n",
    "    lower, upper = observed_pred.confidence_region()\n",
    "    ax.plot(train_x.numpy(), train_y.numpy(), 'k*')\n",
    "    ax.plot(test_x.numpy(), observed_pred.mean.numpy(), 'b')\n",
    "    ax.fill_between(test_x.numpy(), lower.numpy(), upper.numpy(), alpha=0.5)\n",
    "    ax.set_ylim([-3,3])\n",
    "    ax.legend([\"Observed Data\", \"Mean\", \"Confidence\"])"
   ]
  },
  {
   "cell_type": "code",
   "execution_count": null,
   "id": "4bd0f1f3-0740-468e-b900-820575c40f95",
   "metadata": {},
   "outputs": [],
   "source": []
  }
 ],
 "metadata": {
  "kernelspec": {
   "display_name": "Python 3",
   "language": "python",
   "name": "python3"
  },
  "language_info": {
   "codemirror_mode": {
    "name": "ipython",
    "version": 3
   },
   "file_extension": ".py",
   "mimetype": "text/x-python",
   "name": "python",
   "nbconvert_exporter": "python",
   "pygments_lexer": "ipython3",
   "version": "3.8.5"
  }
 },
 "nbformat": 4,
 "nbformat_minor": 5
}
