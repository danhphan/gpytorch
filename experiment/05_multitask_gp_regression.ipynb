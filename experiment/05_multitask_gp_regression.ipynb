{
 "cells": [
  {
   "cell_type": "markdown",
   "id": "60e420cd-0986-4ae7-bc89-7b03fd37602c",
   "metadata": {},
   "source": [
    "# Multitask GP Regression"
   ]
  },
  {
   "cell_type": "code",
   "execution_count": 8,
   "id": "a71a8cdb-00c2-42b2-a90f-30727eee65ee",
   "metadata": {},
   "outputs": [
    {
     "name": "stdout",
     "output_type": "stream",
     "text": [
      "The autoreload extension is already loaded. To reload it, use:\n",
      "  %reload_ext autoreload\n"
     ]
    }
   ],
   "source": [
    "import math\n",
    "import torch\n",
    "import gpytorch as gpt\n",
    "from matplotlib import pyplot as plt\n",
    "\n",
    "%matplotlib inline\n",
    "%load_ext autoreload\n",
    "%autoreload 2"
   ]
  },
  {
   "cell_type": "markdown",
   "id": "6e2a2775-0e11-483d-a1b8-f814e48406d9",
   "metadata": {},
   "source": [
    "### Set up training data"
   ]
  },
  {
   "cell_type": "code",
   "execution_count": 9,
   "id": "de99c1b3-1299-4c67-8b56-ab041aff25c9",
   "metadata": {},
   "outputs": [],
   "source": [
    "train_x = torch.linspace(0, 1, 100)\n",
    "\n",
    "train_y = torch.stack([\n",
    "    torch.sin(train_x * (2 * math.pi)) + torch.randn(train_x.size()) * 0.2,\n",
    "    torch.cos(train_x * (2 * math.pi)) + torch.randn(train_x.size()) * 0.2,\n",
    "], -1)"
   ]
  },
  {
   "cell_type": "code",
   "execution_count": 10,
   "id": "f046d8de-a5ee-4c63-b52a-ffba8bf535a8",
   "metadata": {},
   "outputs": [
    {
     "data": {
      "text/plain": [
       "(torch.Size([100]), torch.Size([100, 2]))"
      ]
     },
     "execution_count": 10,
     "metadata": {},
     "output_type": "execute_result"
    }
   ],
   "source": [
    "train_x.shape, train_y.shape"
   ]
  },
  {
   "cell_type": "code",
   "execution_count": 23,
   "id": "fd683c93-d5fa-4423-ba8b-0b01973345eb",
   "metadata": {},
   "outputs": [
    {
     "data": {
      "text/plain": [
       "<matplotlib.legend.Legend at 0x7f09fdbab520>"
      ]
     },
     "execution_count": 23,
     "metadata": {},
     "output_type": "execute_result"
    },
    {
     "data": {
      "image/png": "[encoded data removed]",
      "text/plain": [
       "<Figure size 288x216 with 1 Axes>"
      ]
     },
     "metadata": {
      "needs_background": "light"
     },
     "output_type": "display_data"
    }
   ],
   "source": [
    "fig, ax = plt.subplots(1,1, figsize=(4,3))\n",
    "ax.scatter(train_x.numpy(), train_y.numpy()[:,0])\n",
    "ax.scatter(train_x.numpy(), train_y.numpy()[:,1])\n",
    "plt.legend([\"sin\", \"cos\"])"
   ]
  },
  {
   "cell_type": "markdown",
   "id": "4fe09a73-8426-481c-a0bb-498b93e8fe42",
   "metadata": {},
   "source": [
    "### Define a multitask model"
   ]
  },
  {
   "cell_type": "code",
   "execution_count": 14,
   "id": "26d00a5d-c032-4a11-9235-51cf05a94b24",
   "metadata": {},
   "outputs": [],
   "source": [
    "class MultitaskGPModel(gpt.models.ExactGP):\n",
    "    def __init__(self, train_x, train_y, likelihood):\n",
    "        super(MultitaskGPModel, self).__init__(train_x, train_y, likelihood)\n",
    "        self.mean_module = gpt.means.MultitaskMean(\n",
    "            gpt.means.ConstantMean(), num_tasks=2\n",
    "        )\n",
    "        self.covar_module = gpt.kernels.MultitaskKernel(\n",
    "            gpt.kernels.RBFKernel(), num_tasks=2, rank=1\n",
    "        )\n",
    "        \n",
    "    def forward(self, x):\n",
    "        mean_x = self.mean_module(x)\n",
    "        covar_x = self.covar_module(x)\n",
    "        return gpt.distributions.MultitaskMultivariateNormal(mean_x, covar_x)\n",
    "    \n",
    "likelihood = gpt.likelihoods.MultitaskGaussianLikelihood(num_tasks=2)\n",
    "model = MultitaskGPModel(train_x, train_y, likelihood)"
   ]
  },
  {
   "cell_type": "markdown",
   "id": "5b42d799-5ae3-49c7-8467-7f4664834577",
   "metadata": {},
   "source": [
    "### Train the model"
   ]
  },
  {
   "cell_type": "code",
   "execution_count": 16,
   "id": "3c169f68-309c-4fc8-839c-e5aa77c13ace",
   "metadata": {},
   "outputs": [
    {
     "name": "stdout",
     "output_type": "stream",
     "text": [
      "Iter 1/50 - Loss: 1.210\n",
      "Iter 2/50 - Loss: 1.171\n",
      "Iter 3/50 - Loss: 1.131\n",
      "Iter 4/50 - Loss: 1.092\n",
      "Iter 5/50 - Loss: 1.052\n",
      "Iter 6/50 - Loss: 1.012\n",
      "Iter 7/50 - Loss: 0.970\n",
      "Iter 8/50 - Loss: 0.929\n",
      "Iter 9/50 - Loss: 0.888\n",
      "Iter 10/50 - Loss: 0.848\n",
      "Iter 11/50 - Loss: 0.810\n",
      "Iter 12/50 - Loss: 0.772\n",
      "Iter 13/50 - Loss: 0.734\n",
      "Iter 14/50 - Loss: 0.695\n",
      "Iter 15/50 - Loss: 0.655\n",
      "Iter 16/50 - Loss: 0.615\n",
      "Iter 17/50 - Loss: 0.574\n",
      "Iter 18/50 - Loss: 0.533\n",
      "Iter 19/50 - Loss: 0.491\n",
      "Iter 20/50 - Loss: 0.450\n",
      "Iter 21/50 - Loss: 0.409\n",
      "Iter 22/50 - Loss: 0.369\n",
      "Iter 23/50 - Loss: 0.329\n",
      "Iter 24/50 - Loss: 0.292\n",
      "Iter 25/50 - Loss: 0.255\n",
      "Iter 26/50 - Loss: 0.220\n",
      "Iter 27/50 - Loss: 0.187\n",
      "Iter 28/50 - Loss: 0.154\n",
      "Iter 29/50 - Loss: 0.122\n",
      "Iter 30/50 - Loss: 0.091\n",
      "Iter 31/50 - Loss: 0.063\n",
      "Iter 32/50 - Loss: 0.036\n",
      "Iter 33/50 - Loss: 0.012\n",
      "Iter 34/50 - Loss: -0.010\n",
      "Iter 35/50 - Loss: -0.029\n",
      "Iter 36/50 - Loss: -0.046\n",
      "Iter 37/50 - Loss: -0.060\n",
      "Iter 38/50 - Loss: -0.072\n",
      "Iter 39/50 - Loss: -0.081\n",
      "Iter 40/50 - Loss: -0.088\n",
      "Iter 41/50 - Loss: -0.093\n",
      "Iter 42/50 - Loss: -0.096\n",
      "Iter 43/50 - Loss: -0.097\n",
      "Iter 44/50 - Loss: -0.097\n",
      "Iter 45/50 - Loss: -0.095\n",
      "Iter 46/50 - Loss: -0.093\n",
      "Iter 47/50 - Loss: -0.090\n",
      "Iter 48/50 - Loss: -0.088\n",
      "Iter 49/50 - Loss: -0.085\n",
      "Iter 50/50 - Loss: -0.083\n"
     ]
    }
   ],
   "source": [
    "training_iters = 50\n",
    "\n",
    "model.train()\n",
    "likelihood.train()\n",
    "\n",
    "optimizer = torch.optim.Adam(model.parameters(), lr=0.1)\n",
    "# Loss for the marginal log likelihood\n",
    "mll = gpt.mlls.ExactMarginalLogLikelihood(likelihood, model)\n",
    "\n",
    "for i in range(training_iters):\n",
    "    optimizer.zero_grad()\n",
    "    output = model(train_x)\n",
    "    loss = -mll(output, train_y)\n",
    "    loss.backward()\n",
    "    print('Iter %d/%d - Loss: %.3f' % (i + 1, training_iters, loss.item()))\n",
    "    optimizer.step()"
   ]
  },
  {
   "cell_type": "markdown",
   "id": "e0273646-6cfa-4952-81da-cc33c8153bdb",
   "metadata": {},
   "source": [
    "### Make predictions with the model"
   ]
  },
  {
   "cell_type": "code",
   "execution_count": 19,
   "id": "30131c17-7470-41af-bafe-a9f6a2a633b0",
   "metadata": {},
   "outputs": [],
   "source": [
    "# Set into eval mode\n",
    "model.eval()\n",
    "likelihood.eval()\n",
    "\n",
    "# Make predictions\n",
    "with torch.no_grad(), gpt.settings.fast_pred_var():\n",
    "    test_x = torch.linspace(0, 1, 51)\n",
    "    predictions = likelihood(model(test_x))\n",
    "    mean = predictions.mean\n",
    "    lower, upper = predictions.confidence_region()\n",
    "\n",
    "# This contains predictions for both tasks, flattened out\n",
    "# The first half of the predictions is for the first task\n",
    "# The second half is for the second task"
   ]
  },
  {
   "cell_type": "code",
   "execution_count": 20,
   "id": "ce714309-972e-4d11-880a-5814784a41bc",
   "metadata": {},
   "outputs": [
    {
     "data": {
      "text/plain": [
       "Text(0.5, 1.0, 'Observed Values (Likelihood)')"
      ]
     },
     "execution_count": 20,
     "metadata": {},
     "output_type": "execute_result"
    },
    {
     "data": {
      "image/png": "[encoded data removed]",
      "text/plain": [
       "<Figure size 576x216 with 2 Axes>"
      ]
     },
     "metadata": {
      "needs_background": "light"
     },
     "output_type": "display_data"
    }
   ],
   "source": [
    "# Initialize plots\n",
    "f, (y1_ax, y2_ax) = plt.subplots(1, 2, figsize=(8, 3))\n",
    "\n",
    "# Plot training data as black stars\n",
    "y1_ax.plot(train_x.detach().numpy(), train_y[:, 0].detach().numpy(), 'k*')\n",
    "# Predictive mean as blue line\n",
    "y1_ax.plot(test_x.numpy(), mean[:, 0].numpy(), 'b')\n",
    "# Shade in confidence\n",
    "y1_ax.fill_between(test_x.numpy(), lower[:, 0].numpy(), upper[:, 0].numpy(), alpha=0.5)\n",
    "y1_ax.set_ylim([-3, 3])\n",
    "y1_ax.legend(['Observed Data', 'Mean', 'Confidence'])\n",
    "y1_ax.set_title('Observed Values (Likelihood)')\n",
    "\n",
    "# Plot training data as black stars\n",
    "y2_ax.plot(train_x.detach().numpy(), train_y[:, 1].detach().numpy(), 'k*')\n",
    "# Predictive mean as blue line\n",
    "y2_ax.plot(test_x.numpy(), mean[:, 1].numpy(), 'b')\n",
    "# Shade in confidence\n",
    "y2_ax.fill_between(test_x.numpy(), lower[:, 1].numpy(), upper[:, 1].numpy(), alpha=0.5)\n",
    "y2_ax.set_ylim([-3, 3])\n",
    "y2_ax.legend(['Observed Data', 'Mean', 'Confidence'])\n",
    "y2_ax.set_title('Observed Values (Likelihood)')"
   ]
  },
  {
   "cell_type": "code",
   "execution_count": null,
   "id": "eac77c52-01c1-4f2f-a5e1-c4d9fb2515c7",
   "metadata": {},
   "outputs": [],
   "source": []
  }
 ],
 "metadata": {
  "kernelspec": {
   "display_name": "Python 3",
   "language": "python",
   "name": "python3"
  },
  "language_info": {
   "codemirror_mode": {
    "name": "ipython",
    "version": 3
   },
   "file_extension": ".py",
   "mimetype": "text/x-python",
   "name": "python",
   "nbconvert_exporter": "python",
   "pygments_lexer": "ipython3",
   "version": "3.8.5"
  }
 },
 "nbformat": 4,
 "nbformat_minor": 5
}
